{
 "cells": [
  {
   "cell_type": "markdown",
   "metadata": {},
   "source": [
    "# Worksheet 1: Introduction to Data Science\n",
    "\n",
    "Welcome to DSCI 100: Introduction to Data Science!  \n",
    "\n",
    "Each week you will complete a lecture assignment like this one. For this worksheet, there are two parts:\n",
    "\n",
    "1. [Introduction to using Jupyter Notebooks](#1.-Introduction-to-Jupyter-Notebooks)\n",
    "2. [Introduction to analyzing data in R](#2.-Analyze-some-data)"
   ]
  },
  {
   "cell_type": "markdown",
   "metadata": {},
   "source": [
    "## 1. Introduction to Jupyter Notebooks\n",
    "This webpage is called a Jupyter notebook. A notebook is a place to write programs and view their results.\n",
    "\n",
    "### 1.1. Text Cells\n",
    "In a notebook, each rectangle containing text or code is called a *cell*.\n",
    "\n",
    "Text cells (like this one) can be edited by double-clicking on them. They're written in a simple format called [Markdown](http://daringfireball.net/projects/markdown/syntax) to add formatting and section headings.  You don't need to learn Markdown, but you might want to.\n",
    "\n",
    "After you edit a text cell, click the \"run cell\" button at the top that looks like ▶| to confirm any changes. (Try not to delete the instructions of the lab.)"
   ]
  },
  {
   "cell_type": "markdown",
   "metadata": {},
   "source": [
    "**Question 1.1.1.** This paragraph is in its own text cell.  Try editing it so that all of the sentences following this one are deleted, then click the \"run cell\" ▶| button.  This sentence, for example, should be deleted.  So should this one."
   ]
  },
  {
   "cell_type": "markdown",
   "metadata": {},
   "source": [
    "### 1.2. Code Cells\n",
    "Other cells contain code in the Python language. Running a code cell will execute all of the code it contains.\n",
    "\n",
    "To run the code in a cell, first click on that cell to activate it.  It'll be highlighted with a little green or blue rectangle.  Next, either press Run ▶| or hold down the `shift` key and press `return` or `enter`.\n",
    "\n",
    "Try running the next cell:"
   ]
  },
  {
   "cell_type": "code",
   "execution_count": null,
   "metadata": {},
   "outputs": [],
   "source": [
    "print(\"Hello, World!\")"
   ]
  },
  {
   "cell_type": "markdown",
   "metadata": {},
   "source": [
    "The above code cell contains a single line of code, but cells can also contain multiple lines of code. When you run a cell, the lines of code are executed in the order in which they appear. Every `print` expression prints a line. Run the next cell and notice the order of the output."
   ]
  },
  {
   "cell_type": "code",
   "execution_count": null,
   "metadata": {},
   "outputs": [],
   "source": [
    "print(\"First this line is printed,\")\n",
    "print(\"and then this one.\")"
   ]
  },
  {
   "cell_type": "markdown",
   "metadata": {},
   "source": [
    "### 1.3. Adding cells to Jupyter Notebooks\n",
    "You can use Jupyter notebooks for your own projects or documents.  When you make your own notebook, you'll need to create your own cells for text and code.\n",
    "\n",
    "To add a cell, click the + button in the menu bar.  It'll start out as a code cell.  You can change it to a text cell by clicking inside it so it's highlighted, clicking the drop-down box next to the restart (⟳) button in the menu bar, and choosing \"Markdown\".\n",
    "\n",
    "**Question 1.3.1.** Add a code cell below this one.  Write code in it that prints out:\n",
    "   \n",
    "    A whole new code cell!\n",
    "\n",
    "Run your cell to verify that it works."
   ]
  },
  {
   "cell_type": "markdown",
   "metadata": {},
   "source": [
    "**Question 1.3.2** Add a text/Markdown cell below this one. Write the text \"A whole new Markdown cell\" in it."
   ]
  },
  {
   "cell_type": "markdown",
   "metadata": {
    "nbgrader": {
     "grade": false,
     "grade_id": "cell-68f2a6ed1f896684",
     "locked": true,
     "schema_version": 3,
     "solution": false
    }
   },
   "source": [
    "# 2. Analyze some data\n",
    "\n",
    "Now that you know how to use a Jupyter notebook, we will start to analyze some data. As you do this, we provide feedback via tests so you can check if your work is correct. To do this, you will need to run the cell below to set things up. "
   ]
  },
  {
   "cell_type": "code",
   "execution_count": 2,
   "metadata": {
    "nbgrader": {
     "grade": false,
     "grade_id": "cell-25fc8c6b3679078e",
     "locked": true,
     "schema_version": 3,
     "solution": false,
     "task": false
    }
   },
   "outputs": [],
   "source": [
    "# run this cell to setup the automated feedback \n",
    "import tests_worksheet_01 as t"
   ]
  },
  {
   "cell_type": "markdown",
   "metadata": {
    "nbgrader": {
     "grade": false,
     "grade_id": "cell-c661f635dc052045",
     "locked": true,
     "schema_version": 3,
     "solution": false,
     "task": false
    }
   },
   "source": [
    "### Question 2.1 - importing packages\n",
    "{points: 1} \n",
    "\n",
    "Using the `import` function, load the `pandas` library using the alias `pd` in the cell below:"
   ]
  },
  {
   "cell_type": "code",
   "execution_count": 7,
   "metadata": {
    "nbgrader": {
     "grade": false,
     "grade_id": "cell-a867ad743fd3e3ce",
     "locked": false,
     "schema_version": 3,
     "solution": true,
     "task": false
    }
   },
   "outputs": [],
   "source": [
    "# write your code here\n",
    "### BEGIN SOLUTION\n",
    "import pandas as pd\n",
    "### END SOLUTION"
   ]
  },
  {
   "cell_type": "markdown",
   "metadata": {},
   "source": [
    "To check whether the code you wrote above was correct, run the cell below. If your code is correct, it will print \"Success\" to tell you that. If your code is not correct, it will give you a hint towards the correct answer."
   ]
  },
  {
   "cell_type": "code",
   "execution_count": null,
   "metadata": {
    "nbgrader": {
     "grade": true,
     "grade_id": "cell-716f95a0b81eaeb3",
     "locked": true,
     "points": 1,
     "schema_version": 3,
     "solution": false
    }
   },
   "outputs": [],
   "source": [
    "# run this cell to test your answer to the question above\n",
    "t.test_2_1()"
   ]
  },
  {
   "cell_type": "markdown",
   "metadata": {},
   "source": [
    "> Note: if you run the above cell and see an error like this:\n",
    ">\n",
    ">```\n",
    ">---------------------------------------------------------------------------\n",
    ">NameError                                 Traceback (most recent call last)\n",
    "><ipython-input-1-1be3d32133e4> in <module>\n",
    ">      1 # run this cell to test your answer to the question above\n",
    ">----> 2 t.test_2_1()\n",
    ">\n",
    ">NameError: name 't' is not defined\n",
    ">```\n",
    ">\n",
    ">That means you probably forgot to run the cell above to setup the automated feedback. Try running `import tests_worksheet_01 as t` and testing your answer again."
   ]
  },
  {
   "cell_type": "markdown",
   "metadata": {},
   "source": [
    "### Is there a relationship between 5 km race time and body mass index in women runners?\n",
    "\n",
    "Now let's us Python to answer a research question for which we have some data (described below) - is there a relationship between two quantitative varbiables: 5 km race time and body mass index (BMI) for women runners in this data set. To answer this exploratory question, we will need to do the following things in R:\n",
    "\n",
    "1. load the data set into Python\n",
    "2. subset & transform the data we are interested in visualizing from the loaded dataset\n",
    "3. create a new column to get the unit of time in minutes instead of seconds\n",
    "4. create a plot to visualize this modified data\n",
    "\n",
    "*Note - subsetting the data and converting from seconds to minutes is not absolutely required to answer our question, but it will give us practice manipulating data in R, and make our data tables and figures more readable.*\n"
   ]
  },
  {
   "cell_type": "markdown",
   "metadata": {},
   "source": [
    "> #### About the data set\n",
    "> Researchers, Vickers and Vertosick performed [a study in 2016](https://bmcsportsscimedrehabil.biomedcentral.com/articles/10.1186/s13102-016-0052-y) that aimed to identify what factors had a relationship with race performance of recreational runners so that they could better predict future 5 km, 10 km and marathon race times for individual runners. Such predictions (and knowing what drives these predictions) can help runners by suggesting changes they could make to modifiable factors, such as training, to help them improve race time. Unmodifiable factors that contribute to the prediction, such as age or sex, allow for fair comparisons to be made between different runners.\n",
    ">\n",
    ">Vickers and Vertosick reasoned that their study is important because all previous research done to predict races times has focused on data from elite athletes. This biased data set means that the predictions generated from them do not necessarily do a good job predicting race times for recreational runners (whose data was not in the dataset that was used to create the model that generates the predictions). Additionally, previous research focused on reporting/measuring factors that require special expertise or equipment that are not freely available to recreational runners. This means that recreational runners may not be able to put their characteristics/measurements for these factors in the race time prediction models and so they will not be able to obtain an accurate prediction, or a prediction at all (in the case of some models).\n",
    ">\n",
    ">To make a better model, Vickers and Vertosick performed a large survey. They put their survey on the news website [Slate.com](https://slate.com/) attached to a news story about race time prediction. They were able to obtain 2,497 responses. The survey included questions that allowed them to collect a data set that included: \n",
    ">- age,\n",
    ">- sex,\n",
    ">- body mass index (BMI),\n",
    ">- whether they are an edurance runner or speed demon,\n",
    ">- what type of shoes they wear,\n",
    ">- what type of training they do,\n",
    ">- race time for 2-3 races they completed in the last 6 months,\n",
    ">- self-rated fitness for each race,\n",
    ">- and race difficulty for each race.\n",
    ">\n",
    "\n"
   ]
  },
  {
   "cell_type": "markdown",
   "metadata": {
    "nbgrader": {
     "grade": false,
     "grade_id": "cell-e36918dd5663c9dc",
     "locked": true,
     "schema_version": 3,
     "solution": false
    }
   },
   "source": [
    "### Question 2.2 - Multiple Choice: \n",
    "{points: 1}\n",
    "\n",
    "What kind of graph will we be creating? Choose the correct answer from the options below. \n",
    "\n",
    "A. Bar Graph \n",
    "\n",
    "B. Pie Chart\n",
    "\n",
    "C. Scatter Plot\n",
    "\n",
    "D. Box Plot \n",
    "\n",
    "*Assign the letter that corresponds to your answer to an object called `answer2_2`. Be sure to surround your answer with quotation marks.* "
   ]
  },
  {
   "cell_type": "code",
   "execution_count": 3,
   "metadata": {
    "nbgrader": {
     "grade": false,
     "grade_id": "cell-7f040d5aa4ed234b",
     "locked": false,
     "schema_version": 3,
     "solution": true
    }
   },
   "outputs": [
    {
     "data": {
      "text/plain": [
       "'C'"
      ]
     },
     "execution_count": 3,
     "metadata": {},
     "output_type": "execute_result"
    }
   ],
   "source": [
    "# Replace NULL with the letter that corresponds to your answer.\n",
    "# Be sure to surround your answer with quotation marks.\n",
    "answer2_2 = None\n",
    "### BEGIN SOLUTION\n",
    "answer2_2 = \"C\"\n",
    "### END SOLUTION\n",
    "answer2_2"
   ]
  },
  {
   "cell_type": "code",
   "execution_count": 5,
   "metadata": {
    "nbgrader": {
     "grade": true,
     "grade_id": "cell-3fd5ce0f36d5dac8",
     "locked": true,
     "points": 1,
     "schema_version": 3,
     "solution": false
    }
   },
   "outputs": [
    {
     "data": {
      "text/plain": [
       "'Success'"
      ]
     },
     "execution_count": 5,
     "metadata": {},
     "output_type": "execute_result"
    }
   ],
   "source": [
    "# run this cell to test your answer to the question above\n",
    "t.test_2_2(answer2_2)"
   ]
  },
  {
   "cell_type": "markdown",
   "metadata": {
    "nbgrader": {
     "grade": false,
     "grade_id": "cell-fdce32634531f220",
     "locked": true,
     "schema_version": 3,
     "solution": false
    }
   },
   "source": [
    "### Question 2.3 - load the dataset into R\n",
    "{points: 1}\n",
    "\n",
    "The data set we are loading is called `race_times.csv` and it contains a subset of the data from the study described above. The file is in the same directory/folder as the file for this notebook. It is a comma separated file (meaning the columns are separated by the `,` character).\n",
    "\n",
    "Fill in the `...` in the cell below to load this data into Python. To do this use the `pd.read_csv()` function. Doing this will save the data from `race_times.csv` to an object called `race_times`. \n",
    "\n",
    "If you need additional help try `?pd.read_csv` and/or ask your neighbours or the Instructional team for help."
   ]
  },
  {
   "cell_type": "code",
   "execution_count": 9,
   "metadata": {
    "nbgrader": {
     "grade": false,
     "grade_id": "cell-7375b9bbe05dcbdf",
     "locked": false,
     "schema_version": 3,
     "solution": true
    },
    "scrolled": true
   },
   "outputs": [
    {
     "data": {
      "text/html": [
       "<div>\n",
       "<style scoped>\n",
       "    .dataframe tbody tr th:only-of-type {\n",
       "        vertical-align: middle;\n",
       "    }\n",
       "\n",
       "    .dataframe tbody tr th {\n",
       "        vertical-align: top;\n",
       "    }\n",
       "\n",
       "    .dataframe thead th {\n",
       "        text-align: right;\n",
       "    }\n",
       "</style>\n",
       "<table border=\"1\" class=\"dataframe\">\n",
       "  <thead>\n",
       "    <tr style=\"text-align: right;\">\n",
       "      <th></th>\n",
       "      <th>age</th>\n",
       "      <th>bmi</th>\n",
       "      <th>km5_time_seconds</th>\n",
       "      <th>km10_time_seconds</th>\n",
       "      <th>sex</th>\n",
       "    </tr>\n",
       "  </thead>\n",
       "  <tbody>\n",
       "    <tr>\n",
       "      <th>0</th>\n",
       "      <td>25.0</td>\n",
       "      <td>21.622116</td>\n",
       "      <td>NaN</td>\n",
       "      <td>2798.0</td>\n",
       "      <td>female</td>\n",
       "    </tr>\n",
       "    <tr>\n",
       "      <th>1</th>\n",
       "      <td>41.0</td>\n",
       "      <td>23.905970</td>\n",
       "      <td>1210.0</td>\n",
       "      <td>NaN</td>\n",
       "      <td>male</td>\n",
       "    </tr>\n",
       "    <tr>\n",
       "      <th>2</th>\n",
       "      <td>25.0</td>\n",
       "      <td>21.640728</td>\n",
       "      <td>994.0</td>\n",
       "      <td>NaN</td>\n",
       "      <td>male</td>\n",
       "    </tr>\n",
       "    <tr>\n",
       "      <th>3</th>\n",
       "      <td>35.0</td>\n",
       "      <td>23.592323</td>\n",
       "      <td>1075.0</td>\n",
       "      <td>2135.0</td>\n",
       "      <td>male</td>\n",
       "    </tr>\n",
       "    <tr>\n",
       "      <th>4</th>\n",
       "      <td>34.0</td>\n",
       "      <td>22.706404</td>\n",
       "      <td>1186.0</td>\n",
       "      <td>NaN</td>\n",
       "      <td>male</td>\n",
       "    </tr>\n",
       "  </tbody>\n",
       "</table>\n",
       "</div>"
      ],
      "text/plain": [
       "    age        bmi  km5_time_seconds  km10_time_seconds     sex\n",
       "0  25.0  21.622116               NaN             2798.0  female\n",
       "1  41.0  23.905970            1210.0                NaN    male\n",
       "2  25.0  21.640728             994.0                NaN    male\n",
       "3  35.0  23.592323            1075.0             2135.0    male\n",
       "4  34.0  22.706404            1186.0                NaN    male"
      ]
     },
     "execution_count": 9,
     "metadata": {},
     "output_type": "execute_result"
    }
   ],
   "source": [
    "# race_times = ...\n",
    "### BEGIN SOLUTION\n",
    "race_times = pd.read_csv(\"race_times.csv\")\n",
    "### END SOLUTION\n",
    "race_times.head()"
   ]
  },
  {
   "cell_type": "code",
   "execution_count": null,
   "metadata": {
    "nbgrader": {
     "grade": true,
     "grade_id": "cell-cc0d111865dbbfd7",
     "locked": true,
     "points": 1,
     "schema_version": 3,
     "solution": false
    },
    "scrolled": true
   },
   "outputs": [],
   "source": [
    "# run this cell to test your answer to the question above\n",
    "t.test_2_3(race_times)"
   ]
  },
  {
   "cell_type": "markdown",
   "metadata": {},
   "source": [
    "### Question 2.4 - subset and transform the data we are interested in \n",
    "{points: 1}\n",
    "\n",
    "Use `dropna()` and square bracket notation to drop missing values (for 5 km race times only), subset the data we are interested in visualizing (BMI & 5 km race time for women runners) and transform the race time units from seconds to minutes. We have given you some starter code which you will have to fill in the appropriate functions in place of `...` to get it to work correctly to give you the correct answer."
   ]
  },
  {
   "cell_type": "code",
   "execution_count": 30,
   "metadata": {
    "nbgrader": {
     "grade": false,
     "grade_id": "cell-e7beff787df8a914",
     "locked": false,
     "schema_version": 3,
     "solution": true
    }
   },
   "outputs": [
    {
     "data": {
      "text/html": [
       "<div>\n",
       "<style scoped>\n",
       "    .dataframe tbody tr th:only-of-type {\n",
       "        vertical-align: middle;\n",
       "    }\n",
       "\n",
       "    .dataframe tbody tr th {\n",
       "        vertical-align: top;\n",
       "    }\n",
       "\n",
       "    .dataframe thead th {\n",
       "        text-align: right;\n",
       "    }\n",
       "</style>\n",
       "<table border=\"1\" class=\"dataframe\">\n",
       "  <thead>\n",
       "    <tr style=\"text-align: right;\">\n",
       "      <th></th>\n",
       "      <th>bmi</th>\n",
       "      <th>km5_time_seconds</th>\n",
       "      <th>km5_time_minutes</th>\n",
       "    </tr>\n",
       "  </thead>\n",
       "  <tbody>\n",
       "    <tr>\n",
       "      <th>5</th>\n",
       "      <td>42.087543</td>\n",
       "      <td>3240.0</td>\n",
       "      <td>54.000000</td>\n",
       "    </tr>\n",
       "    <tr>\n",
       "      <th>9</th>\n",
       "      <td>25.408615</td>\n",
       "      <td>2115.0</td>\n",
       "      <td>35.250000</td>\n",
       "    </tr>\n",
       "    <tr>\n",
       "      <th>14</th>\n",
       "      <td>20.869856</td>\n",
       "      <td>1690.0</td>\n",
       "      <td>28.166667</td>\n",
       "    </tr>\n",
       "    <tr>\n",
       "      <th>21</th>\n",
       "      <td>23.582571</td>\n",
       "      <td>1603.0</td>\n",
       "      <td>26.716667</td>\n",
       "    </tr>\n",
       "    <tr>\n",
       "      <th>22</th>\n",
       "      <td>20.035063</td>\n",
       "      <td>1457.0</td>\n",
       "      <td>24.283333</td>\n",
       "    </tr>\n",
       "  </tbody>\n",
       "</table>\n",
       "</div>"
      ],
      "text/plain": [
       "          bmi  km5_time_seconds  km5_time_minutes\n",
       "5   42.087543            3240.0         54.000000\n",
       "9   25.408615            2115.0         35.250000\n",
       "14  20.869856            1690.0         28.166667\n",
       "21  23.582571            1603.0         26.716667\n",
       "22  20.035063            1457.0         24.283333"
      ]
     },
     "execution_count": 30,
     "metadata": {},
     "output_type": "execute_result"
    }
   ],
   "source": [
    "# Fill in the correct functions in place of \"...\" in the code skeleton given below.\n",
    "# To run the code, uncomment it (remove \"#\").\n",
    "\n",
    "#race_times_women = race_times[... == 'female']\n",
    "#race_times_women  = race_times_women[[..., ...]]\n",
    "#race_times_women = race_times_women.dropna(...)\n",
    "#race_times_women['km5_time_minutes'] = race_times_women[...] / 60\n",
    "\n",
    "### BEGIN SOLUTION\n",
    "race_times_women = race_times[race_times['sex'] == 'female']\n",
    "race_times_women  = race_times_women[['bmi', 'km5_time_seconds']]\n",
    "race_times_women = race_times_women.dropna()\n",
    "race_times_women['km5_time_minutes'] = race_times_women['km5_time_seconds'] / 60\n",
    "### END SOLUTION\n",
    "race_times_women.head()"
   ]
  },
  {
   "cell_type": "code",
   "execution_count": null,
   "metadata": {
    "nbgrader": {
     "grade": true,
     "grade_id": "cell-d291ec9d90db8b58",
     "locked": true,
     "points": 1,
     "schema_version": 3,
     "solution": false
    }
   },
   "outputs": [],
   "source": [
    "# run this cell to test your answer to the question above\n",
    "t.test_2_4(race_times_women)"
   ]
  },
  {
   "cell_type": "markdown",
   "metadata": {
    "nbgrader": {
     "grade": false,
     "grade_id": "cell-188153dcf97bb1df",
     "locked": true,
     "schema_version": 3,
     "solution": false
    }
   },
   "source": [
    "### Question 2.5 - create a plot to visualize this modified data\n",
    "\n",
    "{points: 1}\n",
    "\n",
    "Rearrange the lines of code given below to create a scatterplot with the `bmi` on the x axis and `km5_time_minutes` on the y axis to create a visualization that we can use to start exploring whether there is a relationship between 5 km race time and body mass index in women runners. "
   ]
  },
  {
   "cell_type": "code",
   "execution_count": 47,
   "metadata": {
    "nbgrader": {
     "grade": false,
     "grade_id": "cell-99d22a23ee454f4a",
     "locked": false,
     "schema_version": 3,
     "solution": true,
     "task": false
    }
   },
   "outputs": [
    {
     "data": {
      "text/plain": [
       "<matplotlib.axes._subplots.AxesSubplot at 0x11de8d490>"
      ]
     },
     "execution_count": 47,
     "metadata": {},
     "output_type": "execute_result"
    },
    {
     "data": {
      "image/png": "[encoded data removed]",
      "text/plain": [
       "<Figure size 432x288 with 1 Axes>"
      ]
     },
     "metadata": {
      "needs_background": "light"
     },
     "output_type": "display_data"
    }
   ],
   "source": [
    "# Rearrange the commented out lines of code given below to create a scatterplot.\n",
    "# To run the code, uncomment it (remove \"#\").\n",
    "\n",
    "#ylab(\"5 km race time (minutes)\")\n",
    "#geom_point(alpha = 0.25) +\n",
    "#race_times_plot <- ggplot(data = race_times_to_plot, aes(x = bmi, y = km5_time_minutes)) + \n",
    "#xlab(\"Body mass index (BMI)\") +\n",
    "\n",
    "### BEGIN SOLUTION\n",
    "#race_times_plot <- ggplot(data = race_times_to_plot, aes(x = bmi, y = km5_time_minutes)) + \n",
    "#    geom_point(alpha = 0.25) +\n",
    "#    xlab(\"Body mass index (BMI)\") +\n",
    "#    ylab(\"5 km race time (minutes)\")\n",
    "    \n",
    "race_times_plot = race_times_women.plot.scatter(x = \"bmi\", \n",
    "                                                y = \"km5_time_minutes\",\n",
    "                                                alpha= 0.2,\n",
    "                                                s=50,\n",
    "                                                fontsize=14) \n",
    "race_times_plot.set_ylabel(\"5 km race time (minutes)\", fontsize=14)\n",
    "race_times_plot.set_xlabel(\"Body mass index (BMI)\", fontsize=14)\n",
    "### END SOLUTION\n",
    "race_times_plot"
   ]
  },
  {
   "cell_type": "code",
   "execution_count": null,
   "metadata": {
    "nbgrader": {
     "grade": true,
     "grade_id": "cell-48726b9be0d978fb",
     "locked": true,
     "points": 1,
     "schema_version": 3,
     "solution": false,
     "task": false
    }
   },
   "outputs": [],
   "source": [
    "# run this cell to test your answer to the question above\n",
    "test_2_5(race_times_plot)"
   ]
  },
  {
   "cell_type": "markdown",
   "metadata": {
    "nbgrader": {
     "grade": false,
     "grade_id": "cell-bdc859bb78a43c42",
     "locked": true,
     "schema_version": 3,
     "solution": false
    }
   },
   "source": [
    "### Question 2.6 - Multiple Choice\n",
    "{points: 1}\n",
    "\n",
    "Looking at the graph above, choose a statement above that most reflects what we see?\n",
    "\n",
    "A. There appears to be no trelationship between 5 km run time and body mass index for women; as the value for for body mass index increases we see neither an increase or decrease in the time it takes to run 10 km.\n",
    "\n",
    "B. There may be a postitive relationship between 5 km run time and body mass index for women; as the value for for body mass index increases, so does the time it takes to run 5 km.\n",
    "\n",
    "C. There may be a negative relationship between 5 km run time and body mass index for women; as the value for for body mass index increases, the time it takes to run 5 km decreases.\n",
    "\n",
    "*Assign the letter that corresponds to your answer to an object called `answer2_6`. Be sure to surround your answer with quotation marks.* "
   ]
  },
  {
   "cell_type": "code",
   "execution_count": null,
   "metadata": {
    "nbgrader": {
     "grade": false,
     "grade_id": "cell-3294e67b2ac425f7",
     "locked": false,
     "schema_version": 3,
     "solution": true
    }
   },
   "outputs": [],
   "source": [
    "# Replace NULL with the letter that corresponds to your answer.\n",
    "# Be sure to surround your answer with quotation marks.\n",
    "answer2_6 = None\n",
    "### BEGIN SOLUTION\n",
    "answer2_6 <- \"B\"\n",
    "### END SOLUTION\n",
    "answer2_6"
   ]
  },
  {
   "cell_type": "code",
   "execution_count": null,
   "metadata": {
    "nbgrader": {
     "grade": true,
     "grade_id": "cell-f79260c10ed592af",
     "locked": true,
     "points": 1,
     "schema_version": 3,
     "solution": false
    }
   },
   "outputs": [],
   "source": [
    "# run this cell to test your answer to the question above\n",
    "test_2_6(answer2_6)"
   ]
  },
  {
   "cell_type": "markdown",
   "metadata": {
    "nbgrader": {
     "grade": false,
     "grade_id": "cell-c2e761c4721e274f",
     "locked": true,
     "schema_version": 3,
     "solution": false
    }
   },
   "source": [
    "## Attributions\n",
    "- UBC [DSCI 100 Public Material](https://github.com/UBC-DSCI/dsci-100-assets)\n",
    "- UC Berkley [Data 8 Public Materials](https://github.com/data-8/data8assets)"
   ]
  }
 ],
 "metadata": {
  "celltoolbar": "Create Assignment",
  "kernelspec": {
   "display_name": "Python 3",
   "language": "python",
   "name": "python3"
  },
  "language_info": {
   "codemirror_mode": {
    "name": "ipython",
    "version": 3
   },
   "file_extension": ".py",
   "mimetype": "text/x-python",
   "name": "python",
   "nbconvert_exporter": "python",
   "pygments_lexer": "ipython3",
   "version": "3.7.6"
  }
 },
 "nbformat": 4,
 "nbformat_minor": 2
}
